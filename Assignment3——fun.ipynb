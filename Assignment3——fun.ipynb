{
 "cells": [
  {
   "attachments": {},
   "cell_type": "markdown",
   "metadata": {},
   "source": [
    "# Assignment 3"
   ]
  },
  {
   "attachments": {},
   "cell_type": "markdown",
   "metadata": {},
   "source": [
    "## Submit as an HTML file"
   ]
  },
  {
   "attachments": {},
   "cell_type": "markdown",
   "metadata": {},
   "source": [
    "<font size = \"5\">\n",
    "Print your Emory ID below"
   ]
  },
  {
   "cell_type": "code",
   "execution_count": 30,
   "metadata": {},
   "outputs": [
    {
     "name": "stdout",
     "output_type": "stream",
     "text": [
      "11111\n"
     ]
    }
   ],
   "source": [
    "Emory_ID='11111'\n",
    "print(Emory_ID)"
   ]
  },
  {
   "attachments": {},
   "cell_type": "markdown",
   "metadata": {},
   "source": [
    "<font size = \"5\">\n",
    "\n",
    "Import the numpy and matplotlib packages"
   ]
  },
  {
   "cell_type": "code",
   "execution_count": 17,
   "metadata": {},
   "outputs": [],
   "source": [
    "import matplotlib.pyplot as plt\n",
    "import pandas as pd\n",
    "import numpy as np\n"
   ]
  },
  {
   "attachments": {},
   "cell_type": "markdown",
   "metadata": {},
   "source": [
    "<font size = \"5\">\n",
    "\n",
    "(a) Compute a formula:\n",
    "\n",
    "<font size = \"3\">\n",
    "\n",
    "The formula for the volume of a cone is:\n",
    "\n",
    "<font size = \"4\">\n",
    "\n",
    "$V = \\frac{1}{3} \\pi r^2 h$\n",
    "\n",
    "<font size = \"3\">\n",
    "\n",
    "Where:\n",
    "\n",
    "- $V$ is the volume of the cone\n",
    "- $r$ is the radius of the base\n",
    "- $h$ is the height of the cone\n",
    "\n",
    "Calculate $V$ when:\n",
    "\n",
    "- $r = 5$\n",
    "- $h = 10$\n",
    "\n",
    "\n",
    "To get full points:\n",
    "- First define each of these variables\n",
    "- Write the formula above\n",
    "- Print out the result"
   ]
  },
  {
   "cell_type": "code",
   "execution_count": 62,
   "metadata": {},
   "outputs": [
    {
     "name": "stdout",
     "output_type": "stream",
     "text": [
      "261.79938779914943\n",
      "78.53981633974483\n",
      "314.1592653589793\n",
      "12.5\n",
      "2.0\n"
     ]
    }
   ],
   "source": [
    "import matplotlib.pyplot as plt\n",
    "import numpy as np\n",
    "\n",
    "def function_V(r,h):\n",
    "    V=(1/3)*(np.pi)*(r**2)*h\n",
    "    return V\n",
    "    \n",
    "    # Need to move print outside of the function ! Need to place it at the beginning at another line without any space.\n",
    "    # cannot align it with return V, need to place it at the beginning.\n",
    "    #    print(function_V(5,10)) this location is incorrect\n",
    "print(function_V(5,10))\n",
    "\n",
    "def function_Scircle(r):\n",
    "    S=(np.pi)*r**2\n",
    "    return S\n",
    "print(function_Scircle(5))\n",
    "print(function_Scircle(10))\n",
    "\n",
    "def function_Striangle(a,h):\n",
    "    S=(1/2)*a*h\n",
    "    return S\n",
    "print(function_Striangle(5,5))\n",
    "print(function_Striangle(4,1))\n",
    "   "
   ]
  },
  {
   "cell_type": "code",
   "execution_count": 27,
   "metadata": {},
   "outputs": [
    {
     "name": "stdout",
     "output_type": "stream",
     "text": [
      "261.79938779914943\n"
     ]
    }
   ],
   "source": [
    "#or:(first define r and h, then list the formula for V, do not do it in another order)\n",
    "r=5\n",
    "h=10\n",
    "V=(1/3)*(np.pi)*(r**2)*h\n",
    "\n",
    "print(V)"
   ]
  },
  {
   "attachments": {},
   "cell_type": "markdown",
   "metadata": {},
   "source": [
    "<font size = \"5\">\n",
    "\n",
    "(b) Composite operations on arrays\n",
    "\n",
    "<font size = \"3\">\n",
    "\n",
    "- Define r = 0.1\n",
    "- Define x = 1\n",
    "- Define two arrays $A$ and $T$ using \"np.array()\", assigning the following values\n",
    "$ a = \\begin{pmatrix} a_1 \\\\ a_2 \\\\ a_3 \\end{pmatrix} = \\begin{pmatrix} 28 \\\\ 32 \\\\ 11 \\end{pmatrix}, \\qquad t = \\begin{pmatrix} t_1 \\\\ t_2 \\\\ t_3 \\end{pmatrix} = \\begin{pmatrix} 4 \\\\ 5 \\\\ 6 \\end{pmatrix} $\n",
    "\n",
    "- Use element-by-element vector operations to compute a new array $M$ of length 3:\n",
    "$ M = \\begin{pmatrix} a_1 \\cdot (1+r)^{t_1} + cos(x) \\\\ a_2 \\cdot (1+r)^{t_2} + cos(x) \\\\ a_3 \\cdot (1+r)^{t_3} + cos(x) \\end{pmatrix} $\n",
    "\n",
    "- Compute the sum of the values of $M$ using \"M.sum()\"\n",
    "Note: I am using subscripts to denote the individual elements of $a$ and $t$.\n",
    "\n",
    "- In the code just enter the values of $a$ and $t$.\n",
    "- To get full points you must do all of the above tasks\n"
   ]
  },
  {
   "cell_type": "code",
   "execution_count": 48,
   "metadata": {},
   "outputs": [
    {
     "name": "stdout",
     "output_type": "stream",
     "text": [
      "[[28]\n",
      " [32]\n",
      " [11]]\n",
      "[[4]\n",
      " [5]\n",
      " [6]]\n",
      "[[41.53510231]\n",
      " [52.07662231]\n",
      " [20.02747331]]\n",
      "113.63919791760446\n",
      "[[1 2 3]\n",
      " [4 5 6]\n",
      " [7 8 9]]\n"
     ]
    }
   ],
   "source": [
    "r=0.1\n",
    "x=1\n",
    "a_1=28\n",
    "a_2=32\n",
    "a_3=11\n",
    "\n",
    "# np.array() expects a single iterable (like a list or tuple), but you've passed three separate arguments.\n",
    "#Fix: Wrap the values in square brackets ([]\n",
    "A=np.array([a_1,a_2,a_3]).reshape(-1,1)\n",
    "print(A)\n",
    "t_1=4\n",
    "t_2=5\n",
    "t_3=6\n",
    "\n",
    "T=np.array([t_1,t_2,t_3]).reshape(-1,1)\n",
    "print(T)\n",
    "\n",
    "M=np.array([a_1*(1+r)**(t_1)+np.cos(x),a_2*(1+r)**(t_2)+np.cos(x),a_3*(1+r)**(t_3)+np.cos(x)]).reshape(-1,1)\n",
    "print(M)\n",
    "#  sth.sum() sums the elements within it\n",
    "M_sum=M.sum()\n",
    "print(M_sum)\n",
    "\n",
    "N=np.array([[1,2,3],\n",
    "         [4,5,6],\n",
    "            [7,8,9],\n",
    "            ])\n",
    "print(N)"
   ]
  },
  {
   "attachments": {},
   "cell_type": "markdown",
   "metadata": {},
   "source": [
    "<font size = \"5\">\n",
    "\n",
    "(c) Plot a normal random variable\n",
    "<font size = \"3\">\n",
    "\n",
    "To get full points:\n",
    "\n",
    "- Set a seed using \"np.random.seed()\"\n",
    "- Create the random variable with the following parameters\n",
    "- mean = 233, standard deviation = 99, and size = 1314\n",
    "\n",
    "- Create a histogram\n",
    "- Label the axes"
   ]
  },
  {
   "cell_type": "code",
   "execution_count": 60,
   "metadata": {},
   "outputs": [
    {
     "data": {
      "text/plain": [
       "Text(0, 0.5, 'Frequency')"
      ]
     },
     "execution_count": 60,
     "metadata": {},
     "output_type": "execute_result"
    },
    {
     "data": {
      "image/png": "[encoded data removed]",
      "text/plain": [
       "<Figure size 640x480 with 1 Axes>"
      ]
     },
     "metadata": {},
     "output_type": "display_data"
    }
   ],
   "source": [
    "# Put a random number within seed\n",
    "np.random.seed(12345)\n",
    "random_vec_x=np.random.normal(loc=233,scale=99,size=1314)\n",
    "plt.hist(x=random_vec_x)\n",
    "plt.xlabel('Variable a')\n",
    "plt.ylabel('Frequency')"
   ]
  },
  {
   "attachments": {},
   "cell_type": "markdown",
   "metadata": {},
   "source": [
    "<font size = \"5\">\n",
    "\n",
    "(d) Checking whether word is part of list\n",
    "\n",
    "<font size = \"3\">\n",
    "\n",
    "- Define a variable \"QSS\" with the value \"Statistics\"\n",
    "- Define a list of fruits with the values list_QSS = [\"Statistics\", \"CS\", \"Dara Science\", \"Math\"]\n",
    "- Write an expression to test whether \"QSS\" is contained in \"list_QSS\"\n",
    "\n",
    "Hint: Use the \"in\" command. The final output should be True/False.\n",
    "\n",
    "To get full points run all of the above commands"
   ]
  },
  {
   "cell_type": "code",
   "execution_count": 120,
   "metadata": {},
   "outputs": [
    {
     "name": "stdout",
     "output_type": "stream",
     "text": [
      "True\n",
      "True\n",
      "False\n",
      "False\n",
      "False\n"
     ]
    }
   ],
   "source": [
    "QSS= \"Statistics\"\n",
    "\n",
    "list_QSS = [\"Statistics\", \"CS\", \"Dara Science\", \"Math\"]\n",
    "\n",
    "print( QSS in list_QSS) \n",
    "print( 'QSS' in 'list_QSS') \n",
    "\n",
    "print('QSS' in list_QSS)  \n",
    "print( 'QSS' in list_QSS) \n",
    "\n",
    "favorite_fruit='banana'\n",
    "fruits=['banana','grapes','apples']\n",
    "favorite_fruit in fruits\n",
    "\n",
    "least_favorite='pear'\n",
    "print(least_favorite in fruits)"
   ]
  },
  {
   "cell_type": "markdown",
   "metadata": {},
   "source": [
    "<font size = \"5\">\n",
    "\n",
    "(e) Classifying a variable\n",
    "\n",
    "<font size = \"3\">\n",
    "\n",
    "- Define a new variable \"film_score\" and assign it \"70\"\n",
    "- Write an if/else statement that does the following\n",
    "    - print(\"Box-office Success\") if the score is strictly above 80.\n",
    "    - print(\"Intermediate Range\") if the score is weakly less than 80 and strictly above 20.\n",
    "    - print(\"Box-office Failure\") if the score does not fit in the above categories.\n",
    "\n",
    "\n",
    "To get full points you must do all of the above instructions"
   ]
  },
  {
   "cell_type": "code",
   "execution_count": 113,
   "metadata": {},
   "outputs": [
    {
     "name": "stdout",
     "output_type": "stream",
     "text": [
      "Intermediate Range\n",
      "B\n"
     ]
    }
   ],
   "source": [
    "film_score=70\n",
    "\n",
    "if film_score>80:\n",
    "    print(\"Box-office Success\")\n",
    "elif film_score>20:\n",
    "    print(\"Intermediate Range\")\n",
    "else: \n",
    "    print(\"Box-office Failure\")    \n",
    "\n",
    "\n",
    "Real_Analysis=71\n",
    "\n",
    "if Real_Analysis>85:\n",
    "       print('A')\n",
    "elif Real_Analysis>=80:\n",
    "      print('A-')\n",
    "elif Real_Analysis>=75:\n",
    "      print('B+')\n",
    "elif Real_Analysis>=70:\n",
    "      print('B')      \n",
    "elif Real_Analysis>=65:\n",
    "      print('B-')\n",
    "else:\n",
    "    print('Terrible,stop going to school')"
   ]
  },
  {
   "cell_type": "code",
   "execution_count": null,
   "metadata": {},
   "outputs": [],
   "source": []
  }
 ],
 "metadata": {
  "kernelspec": {
   "display_name": "base",
   "language": "python",
   "name": "python3"
  },
  "language_info": {
   "codemirror_mode": {
    "name": "ipython",
    "version": 3
   },
   "file_extension": ".py",
   "mimetype": "text/x-python",
   "name": "python",
   "nbconvert_exporter": "python",
   "pygments_lexer": "ipython3",
   "version": "3.12.4"
  },
  "orig_nbformat": 4
 },
 "nbformat": 4,
 "nbformat_minor": 2
}
